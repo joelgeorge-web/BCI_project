{
 "cells": [
  {
   "cell_type": "code",
   "execution_count": 5,
   "metadata": {},
   "outputs": [
    {
     "name": "stdout",
     "output_type": "stream",
     "text": [
      "             Fz           FC3       FC1       FCz       FC2       FC4  \\\n",
      "0  3.417969e-07  2.441406e-07 -0.000003 -0.000008 -0.000006 -0.000005   \n",
      "1 -6.347656e-06 -7.958984e-06 -0.000010 -0.000015 -0.000009 -0.000010   \n",
      "2 -1.806641e-06 -7.177734e-06 -0.000008 -0.000011 -0.000005 -0.000005   \n",
      "3 -9.570312e-06 -1.176758e-05 -0.000016 -0.000016 -0.000014 -0.000010   \n",
      "4 -1.293945e-05 -1.469727e-05 -0.000017 -0.000022 -0.000017 -0.000016   \n",
      "\n",
      "             C5        C3        C1        Cz  ...       CPz       CP2  \\\n",
      "0  9.765625e-07 -0.000006 -0.000011 -0.000012  ... -0.000010 -0.000010   \n",
      "1 -4.394531e-06 -0.000014 -0.000017 -0.000018  ... -0.000015 -0.000012   \n",
      "2 -2.929687e-07 -0.000011 -0.000013 -0.000014  ... -0.000010 -0.000009   \n",
      "3 -8.105469e-06 -0.000015 -0.000021 -0.000020  ... -0.000015 -0.000014   \n",
      "4 -4.052734e-06 -0.000015 -0.000020 -0.000023  ... -0.000018 -0.000017   \n",
      "\n",
      "        CP4        P1        Pz        P2       POz      EOG1      EOG2  \\\n",
      "0 -0.000007 -0.000009 -0.000008 -0.000007 -0.000004  0.000010  0.000021   \n",
      "1 -0.000009 -0.000012 -0.000011 -0.000010 -0.000007  0.000002  0.000008   \n",
      "2 -0.000005 -0.000008 -0.000006 -0.000006 -0.000002  0.000006  0.000014   \n",
      "3 -0.000011 -0.000011 -0.000011 -0.000012 -0.000007  0.000004  0.000013   \n",
      "4 -0.000015 -0.000012 -0.000014 -0.000015 -0.000013  0.000001  0.000005   \n",
      "\n",
      "           EOG3  \n",
      "0  5.859375e-06  \n",
      "1 -4.882813e-06  \n",
      "2 -4.882813e-07  \n",
      "3 -1.953125e-06  \n",
      "4 -5.371094e-06  \n",
      "\n",
      "[5 rows x 25 columns]\n",
      "         Fz       FC3       FC1       FCz           FC2       FC4        C5  \\\n",
      "0  0.000005  0.000006  0.000008  0.000009  7.958984e-06  0.000005  0.000009   \n",
      "1  0.000010  0.000013  0.000012  0.000015  1.142578e-05  0.000011  0.000013   \n",
      "2  0.000006  0.000005  0.000006  0.000005  6.982422e-06  0.000004  0.000009   \n",
      "3 -0.000002  0.000001 -0.000002  0.000003  1.464844e-07  0.000003  0.000002   \n",
      "4  0.000004  0.000004  0.000005  0.000007  7.031250e-06  0.000008  0.000008   \n",
      "\n",
      "         C3            C1        Cz  ...       CPz       CP2           CP4  \\\n",
      "0  0.000009  1.083984e-05  0.000012  ...  0.000012  0.000008  6.396484e-06   \n",
      "1  0.000013  1.469727e-05  0.000017  ...  0.000017  0.000013  1.147461e-05   \n",
      "2  0.000005  8.496094e-06  0.000006  ...  0.000009  0.000008  6.445312e-06   \n",
      "3  0.000001  5.859375e-07  0.000004  ...  0.000006  0.000001 -9.765625e-08   \n",
      "4  0.000004  6.445312e-06  0.000008  ...  0.000009  0.000006  4.785156e-06   \n",
      "\n",
      "         P1        Pz        P2       POz      EOG1          EOG2      EOG3  \n",
      "0  0.000011  0.000011  0.000006  0.000004  0.000010  4.882813e-07 -0.000018  \n",
      "1  0.000016  0.000017  0.000012  0.000013  0.000023  8.300781e-06 -0.000011  \n",
      "2  0.000013  0.000013  0.000009  0.000014  0.000009  8.789062e-06 -0.000011  \n",
      "3  0.000006  0.000006  0.000003  0.000009  0.000016  6.347656e-06 -0.000019  \n",
      "4  0.000009  0.000010  0.000007  0.000015  0.000018  1.123047e-05 -0.000009  \n",
      "\n",
      "[5 rows x 25 columns]\n"
     ]
    }
   ],
   "source": [
    "import pandas as pd\n",
    "\n",
    "# Load the training dataset\n",
    "csv_file_path = r\"C:\\Users\\Joel\\Desktop\\PYTHON\\Learning python\\subject_1_set_0train.csv\"\n",
    "df_train = pd.read_csv(csv_file_path)\n",
    "df_train = df_train.drop(columns=['stim'], errors='ignore')\n",
    "#load the testing dataset\n",
    "csv_file_path_test = r\"C:\\Users\\Joel\\Desktop\\PYTHON\\Learning python\\subject_1_set_1test.csv\"\n",
    "df_test = pd.read_csv(csv_file_path_test)\n",
    "df_test = df_test.drop(columns=['stim'], errors='ignore')\n",
    "\n",
    "print(df_train.head())\n",
    "print(df_test.head())"
   ]
  },
  {
   "cell_type": "code",
   "execution_count": 9,
   "metadata": {},
   "outputs": [
    {
     "name": "stderr",
     "output_type": "stream",
     "text": [
      "C:\\Users\\Joel\\AppData\\Roaming\\Python\\Python311\\site-packages\\braindecode\\models\\base.py:23: UserWarning: Deep4Net: 'in_chans' is depreciated. Use 'n_chans' instead.\n",
      "  warnings.warn(\n",
      "C:\\Users\\Joel\\AppData\\Roaming\\Python\\Python311\\site-packages\\braindecode\\models\\base.py:23: UserWarning: Deep4Net: 'n_classes' is depreciated. Use 'n_outputs' instead.\n",
      "  warnings.warn(\n",
      "C:\\Users\\Joel\\AppData\\Roaming\\Python\\Python311\\site-packages\\braindecode\\models\\base.py:23: UserWarning: Deep4Net: 'input_window_samples' is depreciated. Use 'n_times' instead.\n",
      "  warnings.warn(\n"
     ]
    },
    {
     "ename": "RuntimeError",
     "evalue": "self must be a matrix",
     "output_type": "error",
     "traceback": [
      "\u001b[1;31m---------------------------------------------------------------------------\u001b[0m",
      "\u001b[1;31mRuntimeError\u001b[0m                              Traceback (most recent call last)",
      "\u001b[1;32mc:\\Users\\Joel\\Desktop\\PYTHON\\Learning python\\check.ipynb Cell 2\u001b[0m line \u001b[0;36m2\n\u001b[0;32m     <a href='vscode-notebook-cell:/c%3A/Users/Joel/Desktop/PYTHON/Learning%20python/check.ipynb#W1sZmlsZQ%3D%3D?line=24'>25</a>\u001b[0m dataset\u001b[39m.\u001b[39msubject_list \u001b[39m=\u001b[39m dataset\u001b[39m.\u001b[39msubject_list[:\u001b[39m2\u001b[39m]\n\u001b[0;32m     <a href='vscode-notebook-cell:/c%3A/Users/Joel/Desktop/PYTHON/Learning%20python/check.ipynb#W1sZmlsZQ%3D%3D?line=25'>26</a>\u001b[0m datasets \u001b[39m=\u001b[39m [dataset]\n\u001b[1;32m---> <a href='vscode-notebook-cell:/c%3A/Users/Joel/Desktop/PYTHON/Learning%20python/check.ipynb#W1sZmlsZQ%3D%3D?line=27'>28</a>\u001b[0m results \u001b[39m=\u001b[39m benchmark(\n\u001b[0;32m     <a href='vscode-notebook-cell:/c%3A/Users/Joel/Desktop/PYTHON/Learning%20python/check.ipynb#W1sZmlsZQ%3D%3D?line=28'>29</a>\u001b[0m     pipelines \u001b[39m=\u001b[39;49m \u001b[39mr\u001b[39;49m\u001b[39m\"\u001b[39;49m\u001b[39mC:\u001b[39;49m\u001b[39m\\\u001b[39;49m\u001b[39mUsers\u001b[39;49m\u001b[39m\\\u001b[39;49m\u001b[39mJoel\u001b[39;49m\u001b[39m\\\u001b[39;49m\u001b[39mDesktop\u001b[39;49m\u001b[39m\\\u001b[39;49m\u001b[39mPYTHON\u001b[39;49m\u001b[39m\\\u001b[39;49m\u001b[39mLearning python\u001b[39;49m\u001b[39m\\\u001b[39;49m\u001b[39mmoabb\u001b[39;49m\u001b[39m\\\u001b[39;49m\u001b[39mpipelines\u001b[39;49m\u001b[39m\"\u001b[39;49m,\n\u001b[0;32m     <a href='vscode-notebook-cell:/c%3A/Users/Joel/Desktop/PYTHON/Learning%20python/check.ipynb#W1sZmlsZQ%3D%3D?line=29'>30</a>\u001b[0m     evaluations\u001b[39m=\u001b[39;49m[\u001b[39m\"\u001b[39;49m\u001b[39mWithinSession\u001b[39;49m\u001b[39m\"\u001b[39;49m],\n\u001b[0;32m     <a href='vscode-notebook-cell:/c%3A/Users/Joel/Desktop/PYTHON/Learning%20python/check.ipynb#W1sZmlsZQ%3D%3D?line=30'>31</a>\u001b[0m     paradigms\u001b[39m=\u001b[39;49m[\u001b[39m\"\u001b[39;49m\u001b[39mLeftRightImagery\u001b[39;49m\u001b[39m\"\u001b[39;49m],\n\u001b[0;32m     <a href='vscode-notebook-cell:/c%3A/Users/Joel/Desktop/PYTHON/Learning%20python/check.ipynb#W1sZmlsZQ%3D%3D?line=31'>32</a>\u001b[0m     include_datasets\u001b[39m=\u001b[39;49mdatasets,\n\u001b[0;32m     <a href='vscode-notebook-cell:/c%3A/Users/Joel/Desktop/PYTHON/Learning%20python/check.ipynb#W1sZmlsZQ%3D%3D?line=32'>33</a>\u001b[0m     results\u001b[39m=\u001b[39;49m\u001b[39m\"\u001b[39;49m\u001b[39mresults/\u001b[39;49m\u001b[39m\"\u001b[39;49m,\n\u001b[0;32m     <a href='vscode-notebook-cell:/c%3A/Users/Joel/Desktop/PYTHON/Learning%20python/check.ipynb#W1sZmlsZQ%3D%3D?line=33'>34</a>\u001b[0m     overwrite\u001b[39m=\u001b[39;49m\u001b[39mFalse\u001b[39;49;00m,\n\u001b[0;32m     <a href='vscode-notebook-cell:/c%3A/Users/Joel/Desktop/PYTHON/Learning%20python/check.ipynb#W1sZmlsZQ%3D%3D?line=34'>35</a>\u001b[0m     plot\u001b[39m=\u001b[39;49m\u001b[39mFalse\u001b[39;49;00m,\n\u001b[0;32m     <a href='vscode-notebook-cell:/c%3A/Users/Joel/Desktop/PYTHON/Learning%20python/check.ipynb#W1sZmlsZQ%3D%3D?line=35'>36</a>\u001b[0m     output\u001b[39m=\u001b[39;49m\u001b[39m\"\u001b[39;49m\u001b[39mbenchmark/\u001b[39;49m\u001b[39m\"\u001b[39;49m,\n\u001b[0;32m     <a href='vscode-notebook-cell:/c%3A/Users/Joel/Desktop/PYTHON/Learning%20python/check.ipynb#W1sZmlsZQ%3D%3D?line=36'>37</a>\u001b[0m     n_jobs\u001b[39m=\u001b[39;49m\u001b[39m-\u001b[39;49m\u001b[39m1\u001b[39;49m,\n\u001b[0;32m     <a href='vscode-notebook-cell:/c%3A/Users/Joel/Desktop/PYTHON/Learning%20python/check.ipynb#W1sZmlsZQ%3D%3D?line=37'>38</a>\u001b[0m )\n",
      "File \u001b[1;32m~\\AppData\\Roaming\\Python\\Python311\\site-packages\\moabb\\benchmark.py:130\u001b[0m, in \u001b[0;36mbenchmark\u001b[1;34m(pipelines, evaluations, paradigms, results, overwrite, output, n_jobs, n_jobs_evaluation, plot, contexts, include_datasets, exclude_datasets)\u001b[0m\n\u001b[0;32m    127\u001b[0m \u001b[39mif\u001b[39;00m \u001b[39mnot\u001b[39;00m osp\u001b[39m.\u001b[39misdir(output):\n\u001b[0;32m    128\u001b[0m     os\u001b[39m.\u001b[39mmakedirs(output)\n\u001b[1;32m--> 130\u001b[0m pipeline_configs \u001b[39m=\u001b[39m parse_pipelines_from_directory(pipelines)\n\u001b[0;32m    132\u001b[0m context_params \u001b[39m=\u001b[39m {}\n\u001b[0;32m    133\u001b[0m \u001b[39mif\u001b[39;00m contexts \u001b[39mis\u001b[39;00m \u001b[39mnot\u001b[39;00m \u001b[39mNone\u001b[39;00m:\n",
      "File \u001b[1;32m~\\AppData\\Roaming\\Python\\Python311\\site-packages\\moabb\\pipelines\\utils.py:131\u001b[0m, in \u001b[0;36mparse_pipelines_from_directory\u001b[1;34m(dir_path)\u001b[0m\n\u001b[0;32m    129\u001b[0m     spec \u001b[39m=\u001b[39m importlib\u001b[39m.\u001b[39mutil\u001b[39m.\u001b[39mspec_from_file_location(\u001b[39m\"\u001b[39m\u001b[39mcustom\u001b[39m\u001b[39m\"\u001b[39m, python_file)\n\u001b[0;32m    130\u001b[0m     foo \u001b[39m=\u001b[39m importlib\u001b[39m.\u001b[39mutil\u001b[39m.\u001b[39mmodule_from_spec(spec)\n\u001b[1;32m--> 131\u001b[0m     spec\u001b[39m.\u001b[39;49mloader\u001b[39m.\u001b[39;49mexec_module(foo)\n\u001b[0;32m    133\u001b[0m     pipeline_configs\u001b[39m.\u001b[39mappend(foo\u001b[39m.\u001b[39mPIPELINE)\n\u001b[0;32m    134\u001b[0m \u001b[39mreturn\u001b[39;00m pipeline_configs\n",
      "File \u001b[1;32m<frozen importlib._bootstrap_external>:940\u001b[0m, in \u001b[0;36mexec_module\u001b[1;34m(self, module)\u001b[0m\n",
      "File \u001b[1;32m<frozen importlib._bootstrap>:241\u001b[0m, in \u001b[0;36m_call_with_frames_removed\u001b[1;34m(f, *args, **kwds)\u001b[0m\n",
      "File \u001b[1;32m~\\Desktop\\PYTHON\\Learning python\\moabb\\pipelines\\braindecode_Deep4Net.py:29\u001b[0m\n\u001b[0;32m     26\u001b[0m create_dataset \u001b[39m=\u001b[39m BraindecodeDatasetLoader()\n\u001b[0;32m     28\u001b[0m \u001b[39m# Set Deep4Net model\u001b[39;00m\n\u001b[1;32m---> 29\u001b[0m model \u001b[39m=\u001b[39m Deep4Net(\n\u001b[0;32m     30\u001b[0m     in_chans\u001b[39m=\u001b[39;49m\u001b[39m1\u001b[39;49m, n_classes\u001b[39m=\u001b[39;49m\u001b[39m2\u001b[39;49m, input_window_samples\u001b[39m=\u001b[39;49m\u001b[39m100\u001b[39;49m, final_conv_length\u001b[39m=\u001b[39;49m\u001b[39m\"\u001b[39;49m\u001b[39mauto\u001b[39;49m\u001b[39m\"\u001b[39;49m\n\u001b[0;32m     31\u001b[0m )\n\u001b[0;32m     33\u001b[0m \u001b[39m# Define a Skorch classifier\u001b[39;00m\n\u001b[0;32m     34\u001b[0m clf \u001b[39m=\u001b[39m EEGClassifier(\n\u001b[0;32m     35\u001b[0m     module\u001b[39m=\u001b[39mmodel,\n\u001b[0;32m     36\u001b[0m     criterion\u001b[39m=\u001b[39mtorch\u001b[39m.\u001b[39mnn\u001b[39m.\u001b[39mCrossEntropyLoss,\n\u001b[1;32m   (...)\u001b[0m\n\u001b[0;32m     55\u001b[0m     verbose\u001b[39m=\u001b[39mVERBOSE,  \u001b[39m# Not printing the results for each epoch\u001b[39;00m\n\u001b[0;32m     56\u001b[0m )\n",
      "File \u001b[1;32m~\\AppData\\Roaming\\Python\\Python311\\site-packages\\braindecode\\models\\deep4.py:284\u001b[0m, in \u001b[0;36mDeep4Net.__init__\u001b[1;34m(***failed resolving arguments***)\u001b[0m\n\u001b[0;32m    282\u001b[0m \u001b[39mself\u001b[39m\u001b[39m.\u001b[39meval()\n\u001b[0;32m    283\u001b[0m \u001b[39mif\u001b[39;00m \u001b[39mself\u001b[39m\u001b[39m.\u001b[39mfinal_conv_length \u001b[39m==\u001b[39m \u001b[39m\"\u001b[39m\u001b[39mauto\u001b[39m\u001b[39m\"\u001b[39m:\n\u001b[1;32m--> 284\u001b[0m     \u001b[39mself\u001b[39m\u001b[39m.\u001b[39mfinal_conv_length \u001b[39m=\u001b[39m \u001b[39mself\u001b[39;49m\u001b[39m.\u001b[39;49mget_output_shape()[\u001b[39m2\u001b[39m]\n\u001b[0;32m    286\u001b[0m \u001b[39m# Incorporating classification module and subsequent ones in one final layer\u001b[39;00m\n\u001b[0;32m    287\u001b[0m module \u001b[39m=\u001b[39m nn\u001b[39m.\u001b[39mSequential()\n",
      "File \u001b[1;32m~\\AppData\\Roaming\\Python\\Python311\\site-packages\\braindecode\\models\\base.py:218\u001b[0m, in \u001b[0;36mEEGModuleMixin.get_output_shape\u001b[1;34m(self)\u001b[0m\n\u001b[0;32m    210\u001b[0m     msg \u001b[39m=\u001b[39m (\n\u001b[0;32m    211\u001b[0m         \u001b[39m\"\u001b[39m\u001b[39mDuring model prediction RuntimeError was thrown showing that at some \u001b[39m\u001b[39m\"\u001b[39m\n\u001b[0;32m    212\u001b[0m         \u001b[39mf\u001b[39m\u001b[39m\"\u001b[39m\u001b[39mlayer `\u001b[39m\u001b[39m{\u001b[39;00m\u001b[39mstr\u001b[39m(exc)\u001b[39m.\u001b[39msplit(\u001b[39m'\u001b[39m\u001b[39m.\u001b[39m\u001b[39m'\u001b[39m)[\u001b[39m-\u001b[39m\u001b[39m1\u001b[39m]\u001b[39m}\u001b[39;00m\u001b[39m` (see above in the stacktrace). This \u001b[39m\u001b[39m\"\u001b[39m\n\u001b[1;32m   (...)\u001b[0m\n\u001b[0;32m    215\u001b[0m         \u001b[39mf\u001b[39m\u001b[39m\"\u001b[39m\u001b[39m{\u001b[39;00m\u001b[39mself\u001b[39m\u001b[39m.\u001b[39minput_shape\u001b[39m}\u001b[39;00m\u001b[39m.\u001b[39m\u001b[39m\"\u001b[39m\n\u001b[0;32m    216\u001b[0m     )\n\u001b[0;32m    217\u001b[0m     \u001b[39mraise\u001b[39;00m \u001b[39mValueError\u001b[39;00m(msg) \u001b[39mfrom\u001b[39;00m \u001b[39mexc\u001b[39;00m\n\u001b[1;32m--> 218\u001b[0m \u001b[39mraise\u001b[39;00m exc\n",
      "File \u001b[1;32m~\\AppData\\Roaming\\Python\\Python311\\site-packages\\braindecode\\models\\base.py:199\u001b[0m, in \u001b[0;36mEEGModuleMixin.get_output_shape\u001b[1;34m(self)\u001b[0m\n\u001b[0;32m    197\u001b[0m \u001b[39mwith\u001b[39;00m torch\u001b[39m.\u001b[39minference_mode():\n\u001b[0;32m    198\u001b[0m     \u001b[39mtry\u001b[39;00m:\n\u001b[1;32m--> 199\u001b[0m         \u001b[39mreturn\u001b[39;00m \u001b[39mtuple\u001b[39m(\u001b[39mself\u001b[39;49m\u001b[39m.\u001b[39;49mforward(\n\u001b[0;32m    200\u001b[0m             torch\u001b[39m.\u001b[39;49mzeros(\n\u001b[0;32m    201\u001b[0m                 \u001b[39mself\u001b[39;49m\u001b[39m.\u001b[39;49minput_shape,\n\u001b[0;32m    202\u001b[0m                 dtype\u001b[39m=\u001b[39;49m\u001b[39mnext\u001b[39;49m(\u001b[39mself\u001b[39;49m\u001b[39m.\u001b[39;49mparameters())\u001b[39m.\u001b[39;49mdtype,\n\u001b[0;32m    203\u001b[0m                 device\u001b[39m=\u001b[39;49m\u001b[39mnext\u001b[39;49m(\u001b[39mself\u001b[39;49m\u001b[39m.\u001b[39;49mparameters())\u001b[39m.\u001b[39;49mdevice\n\u001b[0;32m    204\u001b[0m             ))\u001b[39m.\u001b[39mshape)\n\u001b[0;32m    205\u001b[0m     \u001b[39mexcept\u001b[39;00m \u001b[39mRuntimeError\u001b[39;00m \u001b[39mas\u001b[39;00m exc:\n\u001b[0;32m    206\u001b[0m         \u001b[39mif\u001b[39;00m \u001b[39mstr\u001b[39m(exc)\u001b[39m.\u001b[39mendswith(\n\u001b[0;32m    207\u001b[0m                 (\u001b[39m\"\u001b[39m\u001b[39mOutput size is too small\u001b[39m\u001b[39m\"\u001b[39m,\n\u001b[0;32m    208\u001b[0m                  \u001b[39m\"\u001b[39m\u001b[39mKernel size can\u001b[39m\u001b[39m'\u001b[39m\u001b[39mt be greater than actual input size\u001b[39m\u001b[39m\"\u001b[39m)\n\u001b[0;32m    209\u001b[0m         ):\n",
      "File \u001b[1;32m~\\AppData\\Roaming\\Python\\Python311\\site-packages\\torch\\nn\\modules\\container.py:217\u001b[0m, in \u001b[0;36mSequential.forward\u001b[1;34m(self, input)\u001b[0m\n\u001b[0;32m    215\u001b[0m \u001b[39mdef\u001b[39;00m \u001b[39mforward\u001b[39m(\u001b[39mself\u001b[39m, \u001b[39minput\u001b[39m):\n\u001b[0;32m    216\u001b[0m     \u001b[39mfor\u001b[39;00m module \u001b[39min\u001b[39;00m \u001b[39mself\u001b[39m:\n\u001b[1;32m--> 217\u001b[0m         \u001b[39minput\u001b[39m \u001b[39m=\u001b[39m module(\u001b[39minput\u001b[39;49m)\n\u001b[0;32m    218\u001b[0m     \u001b[39mreturn\u001b[39;00m \u001b[39minput\u001b[39m\n",
      "File \u001b[1;32m~\\AppData\\Roaming\\Python\\Python311\\site-packages\\torch\\nn\\modules\\module.py:1501\u001b[0m, in \u001b[0;36mModule._call_impl\u001b[1;34m(self, *args, **kwargs)\u001b[0m\n\u001b[0;32m   1496\u001b[0m \u001b[39m# If we don't have any hooks, we want to skip the rest of the logic in\u001b[39;00m\n\u001b[0;32m   1497\u001b[0m \u001b[39m# this function, and just call forward.\u001b[39;00m\n\u001b[0;32m   1498\u001b[0m \u001b[39mif\u001b[39;00m \u001b[39mnot\u001b[39;00m (\u001b[39mself\u001b[39m\u001b[39m.\u001b[39m_backward_hooks \u001b[39mor\u001b[39;00m \u001b[39mself\u001b[39m\u001b[39m.\u001b[39m_backward_pre_hooks \u001b[39mor\u001b[39;00m \u001b[39mself\u001b[39m\u001b[39m.\u001b[39m_forward_hooks \u001b[39mor\u001b[39;00m \u001b[39mself\u001b[39m\u001b[39m.\u001b[39m_forward_pre_hooks\n\u001b[0;32m   1499\u001b[0m         \u001b[39mor\u001b[39;00m _global_backward_pre_hooks \u001b[39mor\u001b[39;00m _global_backward_hooks\n\u001b[0;32m   1500\u001b[0m         \u001b[39mor\u001b[39;00m _global_forward_hooks \u001b[39mor\u001b[39;00m _global_forward_pre_hooks):\n\u001b[1;32m-> 1501\u001b[0m     \u001b[39mreturn\u001b[39;00m forward_call(\u001b[39m*\u001b[39;49margs, \u001b[39m*\u001b[39;49m\u001b[39m*\u001b[39;49mkwargs)\n\u001b[0;32m   1502\u001b[0m \u001b[39m# Do not call functions when jit is used\u001b[39;00m\n\u001b[0;32m   1503\u001b[0m full_backward_hooks, non_full_backward_hooks \u001b[39m=\u001b[39m [], []\n",
      "File \u001b[1;32m~\\AppData\\Roaming\\Python\\Python311\\site-packages\\braindecode\\models\\modules.py:350\u001b[0m, in \u001b[0;36mCombinedConv.forward\u001b[1;34m(self, x)\u001b[0m\n\u001b[0;32m    345\u001b[0m bias \u001b[39m=\u001b[39m \u001b[39m0\u001b[39m\n\u001b[0;32m    346\u001b[0m \u001b[39mif\u001b[39;00m \u001b[39mself\u001b[39m\u001b[39m.\u001b[39mbias_time:\n\u001b[0;32m    347\u001b[0m     bias \u001b[39m+\u001b[39m\u001b[39m=\u001b[39m (\n\u001b[0;32m    348\u001b[0m         \u001b[39mself\u001b[39;49m\u001b[39m.\u001b[39;49mconv_spat\u001b[39m.\u001b[39;49mweight\u001b[39m.\u001b[39;49msqueeze()\n\u001b[0;32m    349\u001b[0m         \u001b[39m.\u001b[39;49msum(\u001b[39m-\u001b[39;49m\u001b[39m1\u001b[39;49m)\n\u001b[1;32m--> 350\u001b[0m         \u001b[39m.\u001b[39;49mmm(\u001b[39mself\u001b[39;49m\u001b[39m.\u001b[39;49mconv_time\u001b[39m.\u001b[39;49mbias\u001b[39m.\u001b[39;49munsqueeze(\u001b[39m-\u001b[39;49m\u001b[39m1\u001b[39;49m))\n\u001b[0;32m    351\u001b[0m         \u001b[39m.\u001b[39msqueeze()\n\u001b[0;32m    352\u001b[0m     )\n\u001b[0;32m    353\u001b[0m \u001b[39mif\u001b[39;00m \u001b[39mself\u001b[39m\u001b[39m.\u001b[39mbias_spat:\n\u001b[0;32m    354\u001b[0m     bias \u001b[39m+\u001b[39m\u001b[39m=\u001b[39m \u001b[39mself\u001b[39m\u001b[39m.\u001b[39mconv_spat\u001b[39m.\u001b[39mbias\n",
      "\u001b[1;31mRuntimeError\u001b[0m: self must be a matrix"
     ]
    }
   ],
   "source": [
    "import os\n",
    "\n",
    "import matplotlib.pyplot as plt\n",
    "import tensorflow as tf\n",
    "from absl.logging import ERROR, set_verbosity\n",
    "from tensorflow import keras\n",
    "\n",
    "from moabb import benchmark, set_log_level\n",
    "from moabb.analysis.plotting import score_plot\n",
    "from moabb.datasets import BNCI2014_001\n",
    "from moabb.utils import setup_seed\n",
    "\n",
    "import numpy as np\n",
    "import tensorflow as tf\n",
    "\n",
    "def setup_seed(seed):\n",
    "    np.random.seed(seed)\n",
    "    tf.random.set_seed(seed)\n",
    "\n",
    "\n",
    "# Set up reproducibility of Tensorflow\n",
    "\n",
    "setup_seed(42)\n",
    "dataset = BNCI2014_001()\n",
    "dataset.subject_list = dataset.subject_list[:2]\n",
    "datasets = [dataset]\n",
    "\n",
    "results = benchmark(\n",
    "    pipelines = r\"C:\\Users\\Joel\\Desktop\\PYTHON\\Learning python\\moabb\\pipelines\",\n",
    "    evaluations=[\"WithinSession\"],\n",
    "    paradigms=[\"LeftRightImagery\"],\n",
    "    include_datasets=datasets,\n",
    "    results=\"results/\",\n",
    "    overwrite=False,\n",
    "    plot=False,\n",
    "    output=\"benchmark/\",\n",
    "    n_jobs=-1,\n",
    ")"
   ]
  }
 ],
 "metadata": {
  "kernelspec": {
   "display_name": "Python 3",
   "language": "python",
   "name": "python3"
  },
  "language_info": {
   "codemirror_mode": {
    "name": "ipython",
    "version": 3
   },
   "file_extension": ".py",
   "mimetype": "text/x-python",
   "name": "python",
   "nbconvert_exporter": "python",
   "pygments_lexer": "ipython3",
   "version": "3.11.4"
  }
 },
 "nbformat": 4,
 "nbformat_minor": 2
}
